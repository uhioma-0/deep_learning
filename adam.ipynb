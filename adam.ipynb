{
 "cells": [
  {
   "cell_type": "code",
   "execution_count": 6,
   "metadata": {},
   "outputs": [
    {
     "name": "stderr",
     "output_type": "stream",
     "text": [
      "WARNING:absl:`lr` is deprecated, please use `learning_rate` instead, or use the legacy optimizer, e.g.,tf.keras.optimizers.legacy.Adam.\n"
     ]
    },
    {
     "name": "stdout",
     "output_type": "stream",
     "text": [
      "Epoch 1/10\n",
      "704/704 [==============================] - 51s 64ms/step - loss: 1.5244 - accuracy: 0.4474 - val_loss: 1.2615 - val_accuracy: 0.5544\n",
      "Epoch 2/10\n",
      "704/704 [==============================] - 45s 64ms/step - loss: 1.1310 - accuracy: 0.6008 - val_loss: 1.0243 - val_accuracy: 0.6364\n",
      "Epoch 3/10\n",
      "704/704 [==============================] - 47s 67ms/step - loss: 0.9676 - accuracy: 0.6608 - val_loss: 0.9586 - val_accuracy: 0.6644\n",
      "Epoch 4/10\n",
      "704/704 [==============================] - 49s 69ms/step - loss: 0.8599 - accuracy: 0.7004 - val_loss: 0.9051 - val_accuracy: 0.6838\n",
      "Epoch 5/10\n",
      "704/704 [==============================] - 51s 73ms/step - loss: 0.7813 - accuracy: 0.7262 - val_loss: 0.9213 - val_accuracy: 0.6904\n",
      "Epoch 6/10\n",
      "704/704 [==============================] - 52s 74ms/step - loss: 0.7114 - accuracy: 0.7526 - val_loss: 0.8473 - val_accuracy: 0.7214\n",
      "Epoch 7/10\n",
      "704/704 [==============================] - 50s 71ms/step - loss: 0.6559 - accuracy: 0.7695 - val_loss: 0.7858 - val_accuracy: 0.7396\n",
      "Epoch 8/10\n",
      "704/704 [==============================] - 49s 70ms/step - loss: 0.5999 - accuracy: 0.7893 - val_loss: 0.7985 - val_accuracy: 0.7368\n",
      "Epoch 9/10\n",
      "704/704 [==============================] - 51s 73ms/step - loss: 0.5532 - accuracy: 0.8075 - val_loss: 0.8070 - val_accuracy: 0.7388\n",
      "Epoch 10/10\n",
      "704/704 [==============================] - 50s 70ms/step - loss: 0.5043 - accuracy: 0.8234 - val_loss: 0.8347 - val_accuracy: 0.7372\n",
      "313/313 [==============================] - 6s 17ms/step - loss: 0.8843 - accuracy: 0.7192\n",
      "Test Loss: 0.8843317627906799\n",
      "Test Accuracy: 0.7192000150680542\n"
     ]
    }
   ],
   "source": [
    "from tensorflow.keras.datasets import cifar10\n",
    "import tensorflow as tf\n",
    "from tensorflow.keras.layers import Conv2D,LeakyReLU,Flatten,Dense,MaxPooling2D\n",
    "from tensorflow.keras.optimizers import SGD,Adam\n",
    "from tensorflow.keras.utils import to_categorical\n",
    "from tensorflow.keras.callbacks import TensorBoard\n",
    "\n",
    "(x_train, y_train), (x_test, y_test) = cifar10.load_data()\n",
    "y_train = to_categorical(y_train, num_classes=10)\n",
    "y_test = to_categorical(y_test, num_classes=10)\n",
    "model = tf.keras.models.Sequential()\n",
    "model.add(Conv2D(32,(3,3), activation=LeakyReLU(alpha=0.1), input_shape=(32, 32, 3)))\n",
    "model.add(MaxPooling2D((2, 2)))\n",
    "model.add(Conv2D(64,(3,3), activation=LeakyReLU(alpha=0.1)))\n",
    "model.add(MaxPooling2D((2, 2)))\n",
    "model.add(Conv2D(64,(3,3), activation=LeakyReLU(alpha=0.1)))\n",
    "\n",
    "model.add(Flatten())\n",
    "model.add(Dense(64, activation=tf.nn.leaky_relu,))\n",
    "\n",
    "model.add(Dense(10, activation=\"softmax\",))\n",
    "optimizer = Adam(lr=0.0001)\n",
    "model.compile(optimizer=optimizer, loss='categorical_crossentropy', metrics=['accuracy'])\n",
    "x_train = x_train / 255.0\n",
    "x_test = x_test / 255.0\n",
    "tensorboard_adam= TensorBoard(log_dir='logs/adam')\n",
    "model.fit(x_train, y_train, epochs=10, batch_size=64, validation_split=0.1,callbacks=tensorboard_adam)\n",
    "test_loss, test_acc = model.evaluate(x_test, y_test)\n",
    "print('Test Loss:', test_loss)\n",
    "print('Test Accuracy:', test_acc)\n"
   ]
  }
 ],
 "metadata": {
  "kernelspec": {
   "display_name": "nnlm",
   "language": "python",
   "name": "python3"
  },
  "language_info": {
   "codemirror_mode": {
    "name": "ipython",
    "version": 3
   },
   "file_extension": ".py",
   "mimetype": "text/x-python",
   "name": "python",
   "nbconvert_exporter": "python",
   "pygments_lexer": "ipython3",
   "version": "3.8.16"
  },
  "orig_nbformat": 4
 },
 "nbformat": 4,
 "nbformat_minor": 2
}
