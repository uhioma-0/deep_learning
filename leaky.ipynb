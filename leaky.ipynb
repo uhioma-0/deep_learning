{
 "cells": [
  {
   "cell_type": "code",
   "execution_count": 8,
   "metadata": {},
   "outputs": [
    {
     "name": "stderr",
     "output_type": "stream",
     "text": [
      "WARNING:absl:`lr` is deprecated, please use `learning_rate` instead, or use the legacy optimizer, e.g.,tf.keras.optimizers.legacy.SGD.\n"
     ]
    },
    {
     "name": "stdout",
     "output_type": "stream",
     "text": [
      "(50000, 32, 32, 3)\n",
      "Epoch 1/10\n",
      "704/704 [==============================] - 55s 78ms/step - loss: 2.0937 - accuracy: 0.2361 - val_loss: 1.9541 - val_accuracy: 0.2852\n",
      "Epoch 2/10\n",
      "704/704 [==============================] - 61s 86ms/step - loss: 1.7594 - accuracy: 0.3742 - val_loss: 1.7227 - val_accuracy: 0.3722\n",
      "Epoch 3/10\n",
      "704/704 [==============================] - 65s 92ms/step - loss: 1.5721 - accuracy: 0.4402 - val_loss: 1.6003 - val_accuracy: 0.4250\n",
      "Epoch 4/10\n",
      "704/704 [==============================] - 69s 98ms/step - loss: 1.4707 - accuracy: 0.4765 - val_loss: 1.5711 - val_accuracy: 0.4230\n",
      "Epoch 5/10\n",
      "704/704 [==============================] - 69s 98ms/step - loss: 1.3821 - accuracy: 0.5076 - val_loss: 1.9817 - val_accuracy: 0.3562\n",
      "Epoch 6/10\n",
      "704/704 [==============================] - 66s 94ms/step - loss: 1.3118 - accuracy: 0.5385 - val_loss: 1.6688 - val_accuracy: 0.4264\n",
      "Epoch 7/10\n",
      "704/704 [==============================] - 68s 97ms/step - loss: 1.2482 - accuracy: 0.5590 - val_loss: 1.2549 - val_accuracy: 0.5590\n",
      "Epoch 8/10\n",
      "704/704 [==============================] - 63s 89ms/step - loss: 1.1934 - accuracy: 0.5816 - val_loss: 1.4046 - val_accuracy: 0.5026\n",
      "Epoch 9/10\n",
      "704/704 [==============================] - 38s 54ms/step - loss: 1.1445 - accuracy: 0.5992 - val_loss: 1.8709 - val_accuracy: 0.4156\n",
      "Epoch 10/10\n",
      "704/704 [==============================] - 30s 42ms/step - loss: 1.0991 - accuracy: 0.6141 - val_loss: 2.0376 - val_accuracy: 0.3702\n",
      "313/313 [==============================] - 2s 7ms/step - loss: 2.0714 - accuracy: 0.3692\n",
      "Test Loss: 2.0713958740234375\n",
      "Test Accuracy: 0.3691999912261963\n"
     ]
    }
   ],
   "source": [
    "from tensorflow.keras.datasets import cifar10\n",
    "import tensorflow as tf\n",
    "\n",
    "from tensorflow.keras.callbacks import TensorBoard\n",
    "from tensorflow.keras.layers import Conv2D,Flatten,Dense,MaxPooling2D\n",
    "from tensorflow.keras.optimizers import SGD\n",
    "from tensorflow.keras.utils import to_categorical\n",
    "# Load CIFAR-10 \n",
    "(x_train, y_train), (x_test, y_test) = cifar10.load_data()\n",
    "print(x_train.shape)\n",
    "y_train = to_categorical(y_train, num_classes=10)\n",
    "y_test = to_categorical(y_test, num_classes=10)\n",
    "model = tf.keras.models.Sequential()\n",
    "model.add(Conv2D(32,(3,3), activation=tf.nn.leaky_relu, padding='same',input_shape=(32, 32, 3)))\n",
    "model.add(MaxPooling2D((2, 2)))\n",
    "model.add(Conv2D(64,(3,3), activation=tf.nn.leaky_relu, padding='same',))\n",
    "model.add(MaxPooling2D((2, 2)))\n",
    "model.add(Conv2D(64,(3,3), activation=tf.nn.leaky_relu, padding='same',))\n",
    "\n",
    "model.add(Flatten())\n",
    "model.add(Dense(64, activation=tf.nn.leaky_relu,))\n",
    "\n",
    "model.add(Dense(10, activation=\"softmax\",))\n",
    "optimizer = SGD(lr=0.0001)\n",
    "model.compile(optimizer=optimizer, loss='categorical_crossentropy', metrics=['accuracy'])\n",
    "x_train = x_train / 255.0\n",
    "x_test = x_test / 255.0\n",
    "tensorboard_leaky= TensorBoard(log_dir='logs/leakey')\n",
    "model.fit(x_train, y_train, epochs=10, batch_size=64, validation_split=0.1,callbacks=tensorboard_leaky)\n",
    "test_loss, test_acc = model.evaluate(x_test, y_test)\n",
    "print('Test Loss:', test_loss)\n",
    "print('Test Accuracy:', test_acc)"
   ]
  }
 ],
 "metadata": {
  "kernelspec": {
   "display_name": "nnlm",
   "language": "python",
   "name": "python3"
  },
  "language_info": {
   "codemirror_mode": {
    "name": "ipython",
    "version": 3
   },
   "file_extension": ".py",
   "mimetype": "text/x-python",
   "name": "python",
   "nbconvert_exporter": "python",
   "pygments_lexer": "ipython3",
   "version": "3.8.16"
  },
  "orig_nbformat": 4
 },
 "nbformat": 4,
 "nbformat_minor": 2
}
