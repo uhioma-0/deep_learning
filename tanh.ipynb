{
 "cells": [
  {
   "cell_type": "code",
   "execution_count": 5,
   "metadata": {},
   "outputs": [
    {
     "name": "stderr",
     "output_type": "stream",
     "text": [
      "WARNING:absl:`lr` is deprecated, please use `learning_rate` instead, or use the legacy optimizer, e.g.,tf.keras.optimizers.legacy.Adam.\n"
     ]
    },
    {
     "name": "stdout",
     "output_type": "stream",
     "text": [
      "Epoch 1/10\n",
      "704/704 [==============================] - 72s 71ms/step - loss: 1.4791 - accuracy: 0.4721 - val_loss: 1.2062 - val_accuracy: 0.5826\n",
      "Epoch 2/10\n",
      "704/704 [==============================] - 47s 66ms/step - loss: 1.1640 - accuracy: 0.5918 - val_loss: 1.1101 - val_accuracy: 0.6092\n",
      "Epoch 3/10\n",
      "704/704 [==============================] - 49s 70ms/step - loss: 1.0511 - accuracy: 0.6320 - val_loss: 1.0528 - val_accuracy: 0.6270\n",
      "Epoch 4/10\n",
      "704/704 [==============================] - 53s 75ms/step - loss: 0.9715 - accuracy: 0.6623 - val_loss: 0.9824 - val_accuracy: 0.6614\n",
      "Epoch 5/10\n",
      "704/704 [==============================] - 52s 74ms/step - loss: 0.9092 - accuracy: 0.6836 - val_loss: 1.0049 - val_accuracy: 0.6560\n",
      "Epoch 6/10\n",
      "704/704 [==============================] - 51s 72ms/step - loss: 0.8575 - accuracy: 0.7038 - val_loss: 1.0045 - val_accuracy: 0.6498\n",
      "Epoch 7/10\n",
      "704/704 [==============================] - 49s 70ms/step - loss: 0.8122 - accuracy: 0.7184 - val_loss: 0.9724 - val_accuracy: 0.6700\n",
      "Epoch 8/10\n",
      "704/704 [==============================] - 51s 73ms/step - loss: 0.7684 - accuracy: 0.7333 - val_loss: 0.9510 - val_accuracy: 0.6788\n",
      "Epoch 9/10\n",
      "704/704 [==============================] - 49s 69ms/step - loss: 0.7278 - accuracy: 0.7469 - val_loss: 0.9686 - val_accuracy: 0.6786\n",
      "Epoch 10/10\n",
      "704/704 [==============================] - 41s 59ms/step - loss: 0.6828 - accuracy: 0.7636 - val_loss: 0.9658 - val_accuracy: 0.6790\n",
      "313/313 [==============================] - 4s 14ms/step - loss: 0.9845 - accuracy: 0.6696\n",
      "Test Loss: 0.9844717979431152\n",
      "Test Accuracy: 0.6696000099182129\n"
     ]
    }
   ],
   "source": [
    "from tensorflow.keras.datasets import cifar10\n",
    "import tensorflow as tf\n",
    "from tensorflow.keras.utils import to_categorical\n",
    "from tensorflow.keras.layers import Conv2D,LeakyReLU,Flatten,Dense,MaxPooling2D\n",
    "from tensorflow.keras.optimizers import Adam\n",
    "from tensorflow.keras.activations import tanh\n",
    "from tensorflow.keras.callbacks import TensorBoard\n",
    "\n",
    "# Load CIFAR-10 \n",
    "(x_train, y_train), (x_test, y_test) = cifar10.load_data()\n",
    "y_train = to_categorical(y_train, num_classes=10)\n",
    "y_test = to_categorical(y_test, num_classes=10)\n",
    "model = tf.keras.models.Sequential()\n",
    "model.add(Conv2D(32,(3,3), activation=tanh, input_shape=(32, 32, 3)))\n",
    "model.add(MaxPooling2D((2, 2)))\n",
    "model.add(Conv2D(64,(3,3), activation=tanh))\n",
    "model.add(MaxPooling2D((2, 2)))\n",
    "model.add(Conv2D(64,(3,3), activation=tanh))\n",
    "\n",
    "model.add(Flatten())\n",
    "model.add(Dense(68, activation=tanh))\n",
    "model.add(Dense(10, activation='softmax'))\n",
    "optimizer = Adam(lr=0.0001)\n",
    "model.compile(optimizer=optimizer, loss='categorical_crossentropy', metrics=['accuracy'])\n",
    "x_train = x_train / 255.0\n",
    "x_test = x_test / 255.0\n",
    "tensorboard_tanh= TensorBoard(log_dir='logs/tanh')\n",
    "\n",
    "model.fit(x_train, y_train, epochs=10, batch_size=64, validation_split=0.1,callbacks=tensorboard_tanh)\n",
    "test_loss, test_acc = model.evaluate(x_test, y_test)\n",
    "print('Test Loss:', test_loss)\n",
    "print('Test Accuracy:', test_acc)\n"
   ]
  }
 ],
 "metadata": {
  "kernelspec": {
   "display_name": "nnlm",
   "language": "python",
   "name": "python3"
  },
  "language_info": {
   "codemirror_mode": {
    "name": "ipython",
    "version": 3
   },
   "file_extension": ".py",
   "mimetype": "text/x-python",
   "name": "python",
   "nbconvert_exporter": "python",
   "pygments_lexer": "ipython3",
   "version": "3.8.16"
  },
  "orig_nbformat": 4
 },
 "nbformat": 4,
 "nbformat_minor": 2
}
